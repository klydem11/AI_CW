{
  "cells": [
    {
      "cell_type": "code",
      "source": [
        "!pip install scipy==1.1.0\n",
        "\n",
        "# You need to restart the Runtime after installing the scipy"
      ],
      "outputs": [],
      "execution_count": null,
      "metadata": {
        "id": "3xY9kWjoJqO2",
        "colab_type": "code",
        "colab": {
          "base_uri": "https://localhost:8080/",
          "height": 49
        },
        "outputId": "bb5f51b4-31bc-4f56-e2c9-9915a72eceb5"
      }
    },
    {
      "cell_type": "code",
      "source": [
        "# Sample code for AI Coursework\n",
        "# Extracts the letters from a printed page.\n",
        "\n",
        "# Keep in mind that after you extract each letter, you have to normalise the size.\n",
        "# You can do that by using scipy.imresize. It is a good idea to train your classifiers\n",
        "# using a constast size (for example 20x20 pixels) \n",
        "import numpy as np\n",
        "import matplotlib.pyplot as plt\n",
        "import matplotlib.patches as mpatches\n",
        "from scipy.misc import imread,imresize\n",
        "from skimage.segmentation import clear_border\n",
        "from skimage.morphology import label\n",
        "from skimage.measure import regionprops\n",
        "\n",
        "\n",
        "image = imread('./page.png',1)\n",
        "\n",
        "#apply threshold in order to make the image binary\n",
        "bw = image < 120\n",
        "\n",
        "# remove artifacts connected to image border\n",
        "cleared = bw.copy()\n",
        "clear_border(cleared)\n",
        "\n",
        "# label image regions\n",
        "label_image = label(cleared,neighbors=8)\n",
        "borders = np.logical_xor(bw, cleared)\n",
        "label_image[borders] = -1\n",
        "\n",
        "print (label_image.max())\n",
        "\n",
        "fig, ax = plt.subplots(ncols=1, nrows=1, figsize=(16, 16))\n",
        "ax.imshow(bw, cmap='jet')\n",
        "\n",
        "\n",
        "\n",
        "for region in regionprops(label_image):\n",
        "    # skip small images\n",
        "    if region.area > 50:\n",
        "    \n",
        "        # draw rectangle around segmented coins\n",
        "        minr, minc, maxr, maxc = region.bbox\n",
        "        rect = mpatches.Rectangle((minc, minr), maxc - minc, maxr - minr,\n",
        "                              fill=False, edgecolor='red', linewidth=2)\n",
        "        ax.add_patch(rect)\n",
        "\n",
        "plt.show()\n"
      ],
      "outputs": [],
      "execution_count": null,
      "metadata": {
        "id": "crSLp3kQKLIx",
        "colab_type": "code",
        "colab": {
          "base_uri": "https://localhost:8080/",
          "height": 874
        },
        "outputId": "33db0073-3604-4c8e-cf1c-776ce1bcf182"
      }
    }
  ],
  "metadata": {
    "colab": {
      "name": "Untitled6.ipynb",
      "provenance": [],
      "collapsed_sections": []
    },
    "kernelspec": {
      "name": "python3",
      "display_name": "Python 3"
    },
    "nteract": {
      "version": "0.22.4"
    }
  },
  "nbformat": 4,
  "nbformat_minor": 0
}